{
 "cells": [
  {
   "cell_type": "markdown",
   "id": "aa6078ec",
   "metadata": {},
   "source": [
    "# Modules and pip in Python!"
   ]
  },
  {
   "cell_type": "markdown",
   "id": "4fb7caa1",
   "metadata": {},
   "source": [
    "# Modules\n",
    "\n",
    "There are 2 types of Modules in Python:\n",
    "1. built in modules: These modules are ready to import and use and ships with the python interpreter.\n",
    "\n",
    "2. External Modules: These modules are imported from a third party file or can be installed using a package manager like pip or conda. "
   ]
  },
  {
   "cell_type": "markdown",
   "id": "a7ec6d48",
   "metadata": {},
   "source": [
    "# pip install (module name)\n",
    "\n",
    "examples:\n",
    "pip install pandas  \n",
    "pip install numpy"
   ]
  },
  {
   "cell_type": "raw",
   "id": "4fba0287",
   "metadata": {},
   "source": [
    "-Introduction to package managers like pip\n",
    "-Pip as the default package manager for Python.\n",
    "-Pip stands for \"Pip Installs Packages.\""
   ]
  },
  {
   "cell_type": "code",
   "execution_count": 2,
   "id": "a848905a",
   "metadata": {},
   "outputs": [
    {
     "ename": "SyntaxError",
     "evalue": "invalid syntax (3338535245.py, line 1)",
     "output_type": "error",
     "traceback": [
      "\u001b[1;36m  Cell \u001b[1;32mIn[2], line 1\u001b[1;36m\u001b[0m\n\u001b[1;33m    other use full cammands:\u001b[0m\n\u001b[1;37m          ^\u001b[0m\n\u001b[1;31mSyntaxError\u001b[0m\u001b[1;31m:\u001b[0m invalid syntax\n"
     ]
    }
   ],
   "source": [
    "other use full cammands:\n",
    "\n",
    "pip install -r requirements.txt\n",
    "pip install --upgrade <package-name>\n",
    "pip uninstall <package-name>"
   ]
  },
  {
   "cell_type": "code",
   "execution_count": 4,
   "id": "a44620ab",
   "metadata": {},
   "outputs": [],
   "source": [
    "import pandas"
   ]
  },
  {
   "cell_type": "code",
   "execution_count": 5,
   "id": "24643c93",
   "metadata": {},
   "outputs": [],
   "source": [
    "import matplotlib.pyplot as plt"
   ]
  },
  {
   "cell_type": "code",
   "execution_count": null,
   "id": "577bdca3",
   "metadata": {},
   "outputs": [],
   "source": []
  }
 ],
 "metadata": {
  "kernelspec": {
   "display_name": "Python 3 (ipykernel)",
   "language": "python",
   "name": "python3"
  },
  "language_info": {
   "codemirror_mode": {
    "name": "ipython",
    "version": 3
   },
   "file_extension": ".py",
   "mimetype": "text/x-python",
   "name": "python",
   "nbconvert_exporter": "python",
   "pygments_lexer": "ipython3",
   "version": "3.11.5"
  }
 },
 "nbformat": 4,
 "nbformat_minor": 5
}
